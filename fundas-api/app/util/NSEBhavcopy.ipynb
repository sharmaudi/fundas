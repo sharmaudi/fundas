{
 "cells": [
  {
   "cell_type": "code",
   "execution_count": 4,
   "metadata": {},
   "outputs": [],
   "source": [
    "import requests,zipfile, io\n",
    "import pandas as pd\n",
    "import concurrent.futures"
   ]
  },
  {
   "cell_type": "code",
   "execution_count": 26,
   "metadata": {},
   "outputs": [],
   "source": [
    "def download_nse_bhavcopy(date, save_location):\n",
    "    date_str = date.strftime('%d%b%Y').upper()\n",
    "    date_str_file = date.strftime('%d%m%Y')\n",
    "\n",
    "    year = date.strftime('%Y')\n",
    "    month = date.strftime('%b').upper()\n",
    "    name = f\"cm{date_str}bhav\"\n",
    "    zip_name = f\"{name}.csv.zip\"\n",
    "    csv_name = f\"{name}.csv\"\n",
    "    url = f\"http://www.nseindia.com/content/historical/EQUITIES/{year}/{month}/{zip_name}\".format(date_str)\n",
    "    r = requests.get(url)\n",
    "    \n",
    "    if r.status_code == 200:\n",
    "        z = zipfile.ZipFile(io.BytesIO(r.content))\n",
    "        print(z.namelist())\n",
    "        df = pd.read_csv(z.open(csv_name))\n",
    "        \n",
    "        df = df.set_index('SYMBOL')\n",
    "        df = df.query('SERIES == \"EQ\" or SERIES == \"BE\"')\n",
    "        df = df[['ISIN', 'OPEN', 'HIGH', 'LOW', 'CLOSE', 'TOTTRDQTY']]\n",
    "        df['DATE']=date_str_file\n",
    "        df.to_csv(f\"{save_location}/NSEEQ{date_str}.csv\")\n",
    "    else:\n",
    "        raise ValueError(f\"Received Error code {r.status_code} while downloading for date ${date_str} from url ${url}\")\n",
    "    \n"
   ]
  },
  {
   "cell_type": "code",
   "execution_count": 24,
   "metadata": {},
   "outputs": [],
   "source": [
    "def get_nse_bhavcopy(start=None, end=None, periods=5, save_location='.'):\n",
    "    if not end:\n",
    "        end=pd.datetime.today()\n",
    "\n",
    "    if not start:\n",
    "        datelist = pd.bdate_range(end=end, periods=periods).tolist()\n",
    "    else:\n",
    "        datelist = pd.bdate_range(start=start, end=end).tolist()\n",
    "        \n",
    "    with concurrent.futures.ThreadPoolExecutor(max_workers=10) as executor:\n",
    "        future_score = {}\n",
    "        error_list = []\n",
    "\n",
    "        for d in datelist:\n",
    "            date_str = d.strftime('%d%m%y')\n",
    "            future_score.update({executor.submit(download_nse_bhavcopy, d,save_location): date_str})\n",
    "\n",
    "        for future in concurrent.futures.as_completed(future_score):\n",
    "            date_str = future_score[future]\n",
    "            try:\n",
    "                future.result()\n",
    "                print(f\"{date_str} is done\")\n",
    "            except Exception as exc:\n",
    "                print(f\"{date_str} generated error: ${exc}\")\n"
   ]
  },
  {
   "cell_type": "code",
   "execution_count": 25,
   "metadata": {},
   "outputs": [
    {
     "name": "stdout",
     "output_type": "stream",
     "text": [
      "['cm28DEC2017bhav.csv']\n",
      "281217 is done\n",
      "['cm29DEC2017bhav.csv']\n",
      "291217 is done\n"
     ]
    }
   ],
   "source": [
    "d = get_nse_bhavcopy(periods=2, save_location='/Users/Udit/Dropbox/Watchlist/eoddata/nse')"
   ]
  },
  {
   "cell_type": "code",
   "execution_count": null,
   "metadata": {},
   "outputs": [],
   "source": []
  }
 ],
 "metadata": {
  "kernelspec": {
   "display_name": ".venv",
   "language": "python",
   "name": ".venv"
  }
 },
 "nbformat": 4,
 "nbformat_minor": 2
}
