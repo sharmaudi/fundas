{
 "cells": [
  {
   "cell_type": "code",
   "execution_count": 16,
   "metadata": {},
   "outputs": [],
   "source": [
    "import requests,zipfile, io\n",
    "import pandas as pd\n",
    "import concurrent.futures"
   ]
  },
  {
   "cell_type": "code",
   "execution_count": 32,
   "metadata": {},
   "outputs": [],
   "source": [
    "def download_bse_bhavcopy(date, save_location):\n",
    "    date_str = date.strftime('%d%m%y')\n",
    "    date_str_file = date.strftime('%d%m%Y')\n",
    "    url = \"http://www.bseindia.com/download/BhavCopy/Equity/EQ{}_CSV.zip\".format(date_str)\n",
    "    r = requests.get(url)\n",
    "    \n",
    "    if r.status_code == 200:\n",
    "        z = zipfile.ZipFile(io.BytesIO(r.content))\n",
    "        print(z.namelist())\n",
    "        dt = f\"EQ{date_str_file}.csv\"\n",
    "        df = pd.read_csv(z.open(f\"EQ{date_str}.CSV\"))\n",
    "        df = df[df.SC_TYPE == 'Q']\n",
    "        \n",
    "        df = df.set_index('SC_CODE')\n",
    "        df = df[['SC_NAME', 'OPEN', 'HIGH', 'LOW', 'CLOSE', 'NO_OF_SHRS']]\n",
    "        df['DATE']=date_str_file\n",
    "        \n",
    "        df.to_csv(f\"{save_location}/{dt}\")\n",
    "    else:\n",
    "        raise ValueError(f\"Received Error code {r.status_code} while downloading for date ${date_str} from url ${url}\")\n",
    "    \n"
   ]
  },
  {
   "cell_type": "code",
   "execution_count": 33,
   "metadata": {},
   "outputs": [],
   "source": [
    "def get_bse_bhavcopy(start=None, end=None, periods=5, save_location='.'):\n",
    "    if not end:\n",
    "        end=pd.datetime.today()\n",
    "\n",
    "    if not start:\n",
    "        datelist = pd.bdate_range(end=end, periods=periods).tolist()\n",
    "    else:\n",
    "        datelist = pd.bdate_range(start=start, end=end).tolist()\n",
    "        \n",
    "    with concurrent.futures.ThreadPoolExecutor(max_workers=10) as executor:\n",
    "        future_score = {}\n",
    "        error_list = []\n",
    "\n",
    "        for d in datelist:\n",
    "            date_str = d.strftime('%d%m%y')\n",
    "            future_score.update({executor.submit(download_bse_bhavcopy, d,save_location): date_str})\n",
    "\n",
    "        for future in concurrent.futures.as_completed(future_score):\n",
    "            date_str = future_score[future]\n",
    "            try:\n",
    "                future.result()\n",
    "                print(f\"{date_str} is done\")\n",
    "            except Exception as exc:\n",
    "                print(f\"{date_str} generated error: ${exc}\")\n"
   ]
  },
  {
   "cell_type": "code",
   "execution_count": 34,
   "metadata": {},
   "outputs": [
    {
     "name": "stdout",
     "output_type": "stream",
     "text": [
      "['EQ181217.CSV']\n",
      "251217 generated error: $Received Error code 404 while downloading for date $251217 from url $http://www.bseindia.com/download/BhavCopy/Equity/EQ251217_CSV.zip\n",
      "181217 is done\n",
      "['EQ201217.CSV']\n",
      "201217 is done\n",
      "['EQ261217.CSV']\n",
      "261217 is done\n",
      "['EQ221217.CSV']\n",
      "221217 is done\n",
      "['EQ121217.CSV']\n",
      "['EQ141217.CSV']\n",
      "['EQ281217.CSV']\n",
      "121217 is done\n",
      "141217 is done\n",
      "['EQ291217.CSV']\n",
      "281217 is done\n",
      "['EQ151217.CSV']\n",
      "['EQ211217.CSV']291217 is done\n",
      "\n",
      "151217 is done\n",
      "211217 is done\n",
      "['EQ271217.CSV']\n",
      "271217 is done\n",
      "['EQ131217.CSV']\n",
      "131217 is done\n",
      "['EQ191217.CSV']\n",
      "191217 is done\n"
     ]
    }
   ],
   "source": [
    "d = get_bse_bhavcopy(periods=14, save_location='/Users/Udit/Dropbox/Watchlist/eoddata/bse')"
   ]
  },
  {
   "cell_type": "code",
   "execution_count": null,
   "metadata": {},
   "outputs": [],
   "source": []
  }
 ],
 "metadata": {
  "kernelspec": {
   "display_name": "fundas",
   "language": "python",
   "name": "fundas"
  },
  "language_info": {
   "codemirror_mode": {
    "name": "ipython",
    "version": 3
   },
   "file_extension": ".py",
   "mimetype": "text/x-python",
   "name": "python",
   "nbconvert_exporter": "python",
   "pygments_lexer": "ipython3",
   "version": "3.6.2"
  }
 },
 "nbformat": 4,
 "nbformat_minor": 2
}
