{
 "cells": [
  {
   "cell_type": "code",
   "execution_count": 1,
   "metadata": {},
   "outputs": [],
   "source": [
    "import requests"
   ]
  },
  {
   "cell_type": "code",
   "execution_count": 24,
   "metadata": {},
   "outputs": [
    {
     "name": "stderr",
     "output_type": "stream",
     "text": [
      "/Users/Udit/Dev/fundas-app/.venv/lib/python3.6/site-packages/urllib3/connectionpool.py:852: InsecureRequestWarning: Unverified HTTPS request is being made. Adding certificate verification is strongly advised. See: https://urllib3.readthedocs.io/en/latest/advanced-usage.html#ssl-warnings\n",
      "  InsecureRequestWarning)\n"
     ]
    }
   ],
   "source": [
    "ucp_fqdn='https://ec2-13-57-231-40.us-west-1.compute.amazonaws.com'\n",
    "\n",
    "auth_data = {\n",
    "    'username': 'admin',\n",
    "    'password': 'adminadmin'\n",
    "}\n",
    "\n",
    "res = requests.post(f\"{ucp_fqdn}/auth/login\", json=auth_data, verify=False)\n",
    "token = res.json()['auth_token']\n",
    "\n",
    "headers = {\n",
    "    'Authorization':f\"Bearer {token}\"\n",
    "}"
   ]
  },
  {
   "cell_type": "code",
   "execution_count": 25,
   "metadata": {},
   "outputs": [
    {
     "name": "stderr",
     "output_type": "stream",
     "text": [
      "/Users/Udit/Dev/fundas-app/.venv/lib/python3.6/site-packages/urllib3/connectionpool.py:852: InsecureRequestWarning: Unverified HTTPS request is being made. Adding certificate verification is strongly advised. See: https://urllib3.readthedocs.io/en/latest/advanced-usage.html#ssl-warnings\n",
      "  InsecureRequestWarning)\n"
     ]
    },
    {
     "data": {
      "text/plain": [
       "[{'Command': \"nginx -g 'daemon off;'\",\n",
       "  'Created': 1513786713,\n",
       "  'HostConfig': {'NetworkMode': 'default'},\n",
       "  'Id': 'd7d45b6ef3bf1b53cbccb2516a4d834fe2588791fb9cf17640952548c4437841',\n",
       "  'Image': 'nginx:latest@sha256:edc8182581fdaa985a39b3021836aa09a69f9b966d1a0ff2f338be6f2fbfe238',\n",
       "  'ImageID': 'sha256:f895b3fb9e3032cddf68d798ce00c46be433e15285c99b12d51c1b1ae7671334',\n",
       "  'Labels': {'com.docker.swarm.node.id': 'zfeibrge54788tbx599ipxjoy',\n",
       "   'com.docker.swarm.service.id': 'zn2i91a85qvwlt8z4kwfi0a1m',\n",
       "   'com.docker.swarm.service.name': 'api-demo',\n",
       "   'com.docker.swarm.task': '',\n",
       "   'com.docker.swarm.task.id': 'lo8rj9d45s4e8vma9v5pa6db0',\n",
       "   'com.docker.swarm.task.name': 'api-demo.1.lo8rj9d45s4e8vma9v5pa6db0',\n",
       "   'com.docker.ucp.access.label': '/',\n",
       "   'com.docker.ucp.collection': 'swarm',\n",
       "   'com.docker.ucp.collection.root': 'true',\n",
       "   'com.docker.ucp.collection.swarm': 'true',\n",
       "   'maintainer': 'NGINX Docker Maintainers <docker-maint@nginx.com>'},\n",
       "  'Mounts': [],\n",
       "  'Names': ['/ucp-node-0/api-demo.1.lo8rj9d45s4e8vma9v5pa6db0'],\n",
       "  'NetworkSettings': {'Networks': {'bridge': {'Aliases': None,\n",
       "     'DriverOpts': None,\n",
       "     'EndpointID': 'bc9af9058017712ef526c385c1a04a49ad3f9b957f454acde089b95ed53632f1',\n",
       "     'Gateway': '172.17.0.1',\n",
       "     'GlobalIPv6Address': '',\n",
       "     'GlobalIPv6PrefixLen': 0,\n",
       "     'IPAMConfig': None,\n",
       "     'IPAddress': '172.17.0.3',\n",
       "     'IPPrefixLen': 16,\n",
       "     'IPv6Gateway': '',\n",
       "     'Links': None,\n",
       "     'MacAddress': '02:42:ac:11:00:03',\n",
       "     'NetworkID': 'cdf21cfb480cffd4dbacc4f9a2af0fbbd5f762efbe27d4dd72d0e7d63ab20f19'}}},\n",
       "  'Ports': [{'PrivatePort': 80, 'Type': 'tcp'}],\n",
       "  'State': 'running',\n",
       "  'Status': 'Up 3 minutes'}]"
      ]
     },
     "execution_count": 25,
     "metadata": {},
     "output_type": "execute_result"
    }
   ],
   "source": [
    "res = requests.get(f\"{ucp_fqdn}/containers/json\", headers=headers, verify=False)\n",
    "res.json()"
   ]
  },
  {
   "cell_type": "code",
   "execution_count": 29,
   "metadata": {},
   "outputs": [
    {
     "name": "stderr",
     "output_type": "stream",
     "text": [
      "/Users/Udit/Dev/fundas-app/.venv/lib/python3.6/site-packages/urllib3/connectionpool.py:852: InsecureRequestWarning: Unverified HTTPS request is being made. Adding certificate verification is strongly advised. See: https://urllib3.readthedocs.io/en/latest/advanced-usage.html#ssl-warnings\n",
      "  InsecureRequestWarning)\n"
     ]
    },
    {
     "data": {
      "text/plain": [
       "{'ID': 'ji4um1xzltdr8msyjxbyfoom5'}"
      ]
     },
     "execution_count": 29,
     "metadata": {},
     "output_type": "execute_result"
    }
   ],
   "source": [
    "import base64\n",
    "secret = 'test_secret'\n",
    "\n",
    "payload = {\n",
    "  \"Data\": base64.b64encode(secret.encode(\"utf-8\")),\n",
    "  \"Labels\": {\n",
    "    \"foo\": \"bar\"\n",
    "  },\n",
    "  \"Name\": \"test_secret\"\n",
    "}\n",
    "\n",
    "res = requests.post(f\"{ucp_fqdn}/secrets/create\", headers=headers, json=payload, verify=False)\n",
    "res.json()"
   ]
  },
  {
   "cell_type": "code",
   "execution_count": 35,
   "metadata": {},
   "outputs": [
    {
     "name": "stderr",
     "output_type": "stream",
     "text": [
      "/Users/Udit/Dev/fundas-app/.venv/lib/python3.6/site-packages/urllib3/connectionpool.py:852: InsecureRequestWarning: Unverified HTTPS request is being made. Adding certificate verification is strongly advised. See: https://urllib3.readthedocs.io/en/latest/advanced-usage.html#ssl-warnings\n",
      "  InsecureRequestWarning)\n"
     ]
    },
    {
     "data": {
      "text/plain": [
       "{'CreatedAt': '2017-12-20T16:18:23.584660163Z',\n",
       " 'Endpoint': {'Spec': {}},\n",
       " 'ID': 'zn2i91a85qvwlt8z4kwfi0a1m',\n",
       " 'Spec': {'EndpointSpec': {'Mode': 'vip'},\n",
       "  'Labels': {'com.docker.ucp.access.label': '/',\n",
       "   'com.docker.ucp.collection': 'swarm',\n",
       "   'com.docker.ucp.collection.root': 'true',\n",
       "   'com.docker.ucp.collection.swarm': 'true'},\n",
       "  'Mode': {'Replicated': {'Replicas': 1}},\n",
       "  'Name': 'api-demo',\n",
       "  'TaskTemplate': {'ContainerSpec': {'Image': 'nginx:latest@sha256:edc8182581fdaa985a39b3021836aa09a69f9b966d1a0ff2f338be6f2fbfe238',\n",
       "    'Labels': {'com.docker.ucp.access.label': '/',\n",
       "     'com.docker.ucp.collection': 'swarm',\n",
       "     'com.docker.ucp.collection.root': 'true',\n",
       "     'com.docker.ucp.collection.swarm': 'true'},\n",
       "    'StopGracePeriod': 0},\n",
       "   'ForceUpdate': 0,\n",
       "   'Placement': {'Constraints': ['node.labels.com.docker.ucp.collection.swarm==true',\n",
       "     'node.labels.com.docker.ucp.collection.system!=true'],\n",
       "    'Platforms': [{'Architecture': 'amd64', 'OS': 'linux'},\n",
       "     {'Architecture': 'arm', 'OS': 'linux'},\n",
       "     {'Architecture': 'arm64', 'OS': 'linux'},\n",
       "     {'Architecture': '386', 'OS': 'linux'},\n",
       "     {'Architecture': 'ppc64le', 'OS': 'linux'},\n",
       "     {'Architecture': 's390x', 'OS': 'linux'}]},\n",
       "   'Resources': {'Limits': {}, 'Reservations': {}},\n",
       "   'RestartPolicy': {'Condition': 'any', 'MaxAttempts': 0},\n",
       "   'Runtime': 'container'},\n",
       "  'UpdateConfig': {'FailureAction': 'pause',\n",
       "   'MaxFailureRatio': 0,\n",
       "   'Order': 'stop-first',\n",
       "   'Parallelism': 1}},\n",
       " 'UpdatedAt': '2017-12-20T16:18:23.584660163Z',\n",
       " 'Version': {'Index': 363}}"
      ]
     },
     "execution_count": 35,
     "metadata": {},
     "output_type": "execute_result"
    }
   ],
   "source": [
    "res = requests.get(f\"{ucp_fqdn}/services/api-demo\", headers=headers, verify=False)\n",
    "\n",
    "res.json()"
   ]
  },
  {
   "cell_type": "code",
   "execution_count": 50,
   "metadata": {},
   "outputs": [
    {
     "name": "stderr",
     "output_type": "stream",
     "text": [
      "/Users/Udit/Dev/fundas-app/.venv/lib/python3.6/site-packages/urllib3/connectionpool.py:852: InsecureRequestWarning: Unverified HTTPS request is being made. Adding certificate verification is strongly advised. See: https://urllib3.readthedocs.io/en/latest/advanced-usage.html#ssl-warnings\n",
      "  InsecureRequestWarning)\n"
     ]
    },
    {
     "data": {
      "text/plain": [
       "{'ID': 'oyi3vblu1pf6wq6212vbh9ekk'}"
      ]
     },
     "execution_count": 50,
     "metadata": {},
     "output_type": "execute_result"
    }
   ],
   "source": [
    "nginx_service = {\n",
    "  \"Name\": \"demo-nginx\",\n",
    "  \"EndpointSpec\": {\n",
    "    \"Ports\": [\n",
    "      {\n",
    "        \"Protocol\": \"tcp\",\n",
    "        \"PublishedPort\": 8080,\n",
    "        \"TargetPort\": 80\n",
    "      }\n",
    "    ]\n",
    "  },\n",
    "  \"TaskTemplate\": {\n",
    "    \"ContainerSpec\": {\n",
    "      \"Image\": \"nginx:latest\",\n",
    "      \"Secrets\": [\n",
    "      {\n",
    "          \"File\": {\n",
    "            \"GID\": \"33\",\n",
    "            \"Mode\": 384,\n",
    "            \"Name\": \"www.example.org.key\",\n",
    "            \"UID\": \"33\"\n",
    "          },\n",
    "          \"SecretID\": \"ji4um1xzltdr8msyjxbyfoom5\",\n",
    "          \"SecretName\": \"test_secret\"\n",
    "        }\n",
    "      ]\n",
    "    }\n",
    "  }\n",
    "  \n",
    "}\n",
    "\n",
    "\n",
    "res = requests.post(f\"{ucp_fqdn}/services/create\", headers=headers, json=nginx_service, verify=False)\n",
    "res.json()"
   ]
  },
  {
   "cell_type": "code",
   "execution_count": 66,
   "metadata": {},
   "outputs": [],
   "source": []
  },
  {
   "cell_type": "code",
   "execution_count": 73,
   "metadata": {},
   "outputs": [
    {
     "data": {
      "text/html": [
       "\n",
       "\n",
       "\n",
       "<!DOCTYPE html>\n",
       "<html lang=\"en\">\n",
       "    <head>\n",
       "        <meta charset=\"UTF-8\" />\n",
       "        <title>Apache Tomcat/8.5.24</title>\n",
       "        <link href=\"favicon.ico\" rel=\"icon\" type=\"image/x-icon\" />\n",
       "        <link href=\"favicon.ico\" rel=\"shortcut icon\" type=\"image/x-icon\" />\n",
       "        <link href=\"tomcat.css\" rel=\"stylesheet\" type=\"text/css\" />\n",
       "    </head>\n",
       "\n",
       "    <body>\n",
       "        <div id=\"wrapper\">\n",
       "            <div id=\"navigation\" class=\"curved container\">\n",
       "                <span id=\"nav-home\"><a href=\"http://tomcat.apache.org/\">Home</a></span>\n",
       "                <span id=\"nav-hosts\"><a href=\"/docs/\">Documentation</a></span>\n",
       "                <span id=\"nav-config\"><a href=\"/docs/config/\">Configuration</a></span>\n",
       "                <span id=\"nav-examples\"><a href=\"/examples/\">Examples</a></span>\n",
       "                <span id=\"nav-wiki\"><a href=\"http://wiki.apache.org/tomcat/FrontPage\">Wiki</a></span>\n",
       "                <span id=\"nav-lists\"><a href=\"http://tomcat.apache.org/lists.html\">Mailing Lists</a></span>\n",
       "                <span id=\"nav-help\"><a href=\"http://tomcat.apache.org/findhelp.html\">Find Help</a></span>\n",
       "                <br class=\"separator\" />\n",
       "            </div>\n",
       "            <div id=\"asf-box\">\n",
       "                <h1>Apache Tomcat/8.5.24</h1>\n",
       "            </div>\n",
       "            <div id=\"upper\" class=\"curved container\">\n",
       "                <div id=\"congrats\" class=\"curved container\">\n",
       "                    <h2>If you're seeing this, you've successfully installed Tomcat. Congratulations!</h2>\n",
       "                </div>\n",
       "                <div id=\"notice\">\n",
       "                    <img src=\"tomcat.png\" alt=\"[tomcat logo]\" />\n",
       "                    <div id=\"tasks\">\n",
       "                        <h3>Recommended Reading:</h3>\n",
       "                        <h4><a href=\"/docs/security-howto.html\">Security Considerations HOW-TO</a></h4>\n",
       "                        <h4><a href=\"/docs/manager-howto.html\">Manager Application HOW-TO</a></h4>\n",
       "                        <h4><a href=\"/docs/cluster-howto.html\">Clustering/Session Replication HOW-TO</a></h4>\n",
       "                    </div>\n",
       "                </div>\n",
       "                <div id=\"actions\">\n",
       "                    <div class=\"button\">\n",
       "                        <a class=\"container shadow\" href=\"/manager/status\"><span>Server Status</span></a>\n",
       "                    </div>\n",
       "                    <div class=\"button\">\n",
       "                        <a class=\"container shadow\" href=\"/manager/html\"><span>Manager App</span></a>\n",
       "                    </div>\n",
       "                    <div class=\"button\">\n",
       "                        <a class=\"container shadow\" href=\"/host-manager/html\"><span>Host Manager</span></a>\n",
       "                    </div>\n",
       "                </div>\n",
       "                <!--\n",
       "                <br class=\"separator\" />\n",
       "                -->\n",
       "                <br class=\"separator\" />\n",
       "            </div>\n",
       "            <div id=\"middle\" class=\"curved container\">\n",
       "                <h3>Developer Quick Start</h3>\n",
       "                <div class=\"col25\">\n",
       "                    <div class=\"container\">\n",
       "                        <p><a href=\"/docs/setup.html\">Tomcat Setup</a></p>\n",
       "                        <p><a href=\"/docs/appdev/\">First Web Application</a></p>\n",
       "                    </div>\n",
       "                </div>\n",
       "                <div class=\"col25\">\n",
       "                    <div class=\"container\">\n",
       "                        <p><a href=\"/docs/realm-howto.html\">Realms &amp; AAA</a></p>\n",
       "                        <p><a href=\"/docs/jndi-datasource-examples-howto.html\">JDBC DataSources</a></p>\n",
       "                    </div>\n",
       "                </div>\n",
       "                <div class=\"col25\">\n",
       "                    <div class=\"container\">\n",
       "                        <p><a href=\"/examples/\">Examples</a></p>\n",
       "                    </div>\n",
       "                </div>\n",
       "                <div class=\"col25\">\n",
       "                    <div class=\"container\">\n",
       "                        <p><a href=\"http://wiki.apache.org/tomcat/Specifications\">Servlet Specifications</a></p>\n",
       "                        <p><a href=\"http://wiki.apache.org/tomcat/TomcatVersions\">Tomcat Versions</a></p>\n",
       "                    </div>\n",
       "                </div>\n",
       "                <br class=\"separator\" />\n",
       "            </div>\n",
       "            <div id=\"lower\">\n",
       "                <div id=\"low-manage\" class=\"\">\n",
       "                    <div class=\"curved container\">\n",
       "                        <h3>Managing Tomcat</h3>\n",
       "                        <p>For security, access to the <a href=\"/manager/html\">manager webapp</a> is restricted.\n",
       "                        Users are defined in:</p>\n",
       "                        <pre>$CATALINA_HOME/conf/tomcat-users.xml</pre>\n",
       "                        <p>In Tomcat 8.5 access to the manager application is split between\n",
       "                           different users. &nbsp; <a href=\"/docs/manager-howto.html\">Read more...</a></p>\n",
       "                        <br />\n",
       "                        <h4><a href=\"/docs/RELEASE-NOTES.txt\">Release Notes</a></h4>\n",
       "                        <h4><a href=\"/docs/changelog.html\">Changelog</a></h4>\n",
       "                        <h4><a href=\"http://tomcat.apache.org/migration.html\">Migration Guide</a></h4>\n",
       "                        <h4><a href=\"http://tomcat.apache.org/security.html\">Security Notices</a></h4>\n",
       "                    </div>\n",
       "                </div>\n",
       "                <div id=\"low-docs\" class=\"\">\n",
       "                    <div class=\"curved container\">\n",
       "                        <h3>Documentation</h3>\n",
       "                        <h4><a href=\"/docs/\">Tomcat 8.5 Documentation</a></h4>\n",
       "                        <h4><a href=\"/docs/config/\">Tomcat 8.5 Configuration</a></h4>\n",
       "                        <h4><a href=\"http://wiki.apache.org/tomcat/FrontPage\">Tomcat Wiki</a></h4>\n",
       "                        <p>Find additional important configuration information in:</p>\n",
       "                        <pre>$CATALINA_HOME/RUNNING.txt</pre>\n",
       "                        <p>Developers may be interested in:</p>\n",
       "                        <ul>\n",
       "                            <li><a href=\"http://tomcat.apache.org/bugreport.html\">Tomcat 8.5 Bug Database</a></li>\n",
       "                            <li><a href=\"/docs/api/index.html\">Tomcat 8.5 JavaDocs</a></li>\n",
       "                            <li><a href=\"http://svn.apache.org/repos/asf/tomcat/tc8.5.x/\">Tomcat 8.5 SVN Repository</a></li>\n",
       "                        </ul>\n",
       "                    </div>\n",
       "                </div>\n",
       "                <div id=\"low-help\" class=\"\">\n",
       "                    <div class=\"curved container\">\n",
       "                        <h3>Getting Help</h3>\n",
       "                        <h4><a href=\"http://tomcat.apache.org/faq/\">FAQ</a> and <a href=\"http://tomcat.apache.org/lists.html\">Mailing Lists</a></h4>\n",
       "                        <p>The following mailing lists are available:</p>\n",
       "                        <ul>\n",
       "                            <li id=\"list-announce\"><strong><a href=\"http://tomcat.apache.org/lists.html#tomcat-announce\">tomcat-announce</a><br />\n",
       "                                Important announcements, releases, security vulnerability notifications. (Low volume).</strong>\n",
       "                            </li>\n",
       "                            <li><a href=\"http://tomcat.apache.org/lists.html#tomcat-users\">tomcat-users</a><br />\n",
       "                                User support and discussion\n",
       "                            </li>\n",
       "                            <li><a href=\"http://tomcat.apache.org/lists.html#taglibs-user\">taglibs-user</a><br />\n",
       "                                User support and discussion for <a href=\"http://tomcat.apache.org/taglibs/\">Apache Taglibs</a>\n",
       "                            </li>\n",
       "                            <li><a href=\"http://tomcat.apache.org/lists.html#tomcat-dev\">tomcat-dev</a><br />\n",
       "                                Development mailing list, including commit messages\n",
       "                            </li>\n",
       "                        </ul>\n",
       "                    </div>\n",
       "                </div>\n",
       "                <br class=\"separator\" />\n",
       "            </div>\n",
       "            <div id=\"footer\" class=\"curved container\">\n",
       "                <div class=\"col20\">\n",
       "                    <div class=\"container\">\n",
       "                        <h4>Other Downloads</h4>\n",
       "                        <ul>\n",
       "                            <li><a href=\"http://tomcat.apache.org/download-connectors.cgi\">Tomcat Connectors</a></li>\n",
       "                            <li><a href=\"http://tomcat.apache.org/download-native.cgi\">Tomcat Native</a></li>\n",
       "                            <li><a href=\"http://tomcat.apache.org/taglibs/\">Taglibs</a></li>\n",
       "                            <li><a href=\"/docs/deployer-howto.html\">Deployer</a></li>\n",
       "                        </ul>\n",
       "                    </div>\n",
       "                </div>\n",
       "                <div class=\"col20\">\n",
       "                    <div class=\"container\">\n",
       "                        <h4>Other Documentation</h4>\n",
       "                        <ul>\n",
       "                            <li><a href=\"http://tomcat.apache.org/connectors-doc/\">Tomcat Connectors</a></li>\n",
       "                            <li><a href=\"http://tomcat.apache.org/connectors-doc/\">mod_jk Documentation</a></li>\n",
       "                            <li><a href=\"http://tomcat.apache.org/native-doc/\">Tomcat Native</a></li>\n",
       "                            <li><a href=\"/docs/deployer-howto.html\">Deployer</a></li>\n",
       "                        </ul>\n",
       "                    </div>\n",
       "                </div>\n",
       "                <div class=\"col20\">\n",
       "                    <div class=\"container\">\n",
       "                        <h4>Get Involved</h4>\n",
       "                        <ul>\n",
       "                            <li><a href=\"http://tomcat.apache.org/getinvolved.html\">Overview</a></li>\n",
       "                            <li><a href=\"http://tomcat.apache.org/svn.html\">SVN Repositories</a></li>\n",
       "                            <li><a href=\"http://tomcat.apache.org/lists.html\">Mailing Lists</a></li>\n",
       "                            <li><a href=\"http://wiki.apache.org/tomcat/FrontPage\">Wiki</a></li>\n",
       "                        </ul>\n",
       "                    </div>\n",
       "                </div>\n",
       "                <div class=\"col20\">\n",
       "                    <div class=\"container\">\n",
       "                        <h4>Miscellaneous</h4>\n",
       "                        <ul>\n",
       "                            <li><a href=\"http://tomcat.apache.org/contact.html\">Contact</a></li>\n",
       "                            <li><a href=\"http://tomcat.apache.org/legal.html\">Legal</a></li>\n",
       "                            <li><a href=\"http://www.apache.org/foundation/sponsorship.html\">Sponsorship</a></li>\n",
       "                            <li><a href=\"http://www.apache.org/foundation/thanks.html\">Thanks</a></li>\n",
       "                        </ul>\n",
       "                    </div>\n",
       "                </div>\n",
       "                <div class=\"col20\">\n",
       "                    <div class=\"container\">\n",
       "                        <h4>Apache Software Foundation</h4>\n",
       "                        <ul>\n",
       "                            <li><a href=\"http://tomcat.apache.org/whoweare.html\">Who We Are</a></li>\n",
       "                            <li><a href=\"http://tomcat.apache.org/heritage.html\">Heritage</a></li>\n",
       "                            <li><a href=\"http://www.apache.org\">Apache Home</a></li>\n",
       "                            <li><a href=\"http://tomcat.apache.org/resources.html\">Resources</a></li>\n",
       "                        </ul>\n",
       "                    </div>\n",
       "                </div>\n",
       "                <br class=\"separator\" />\n",
       "            </div>\n",
       "            <p class=\"copyright\">Copyright &copy;1999-2017 Apache Software Foundation.  All Rights Reserved</p>\n",
       "        </div>\n",
       "    </body>\n",
       "\n",
       "</html>\n"
      ],
      "text/plain": [
       "<IPython.core.display.HTML object>"
      ]
     },
     "execution_count": 73,
     "metadata": {},
     "output_type": "execute_result"
    }
   ],
   "source": [
    "from IPython.core.display import HTML\n",
    "import requests\n",
    "\n",
    "ucp_fqdn='http://ec2-13-57-231-40.us-west-1.compute.amazonaws.com'\n",
    "\n",
    "headers = {\n",
    "    'Host': 'tomcat.example.com'\n",
    "}\n",
    " \n",
    "res = requests.get(ucp_fqdn,headers=headers,verify=False)\n",
    "HTML(res.text)"
   ]
  },
  {
   "cell_type": "code",
   "execution_count": null,
   "metadata": {},
   "outputs": [],
   "source": []
  }
 ],
 "metadata": {
  "kernelspec": {
   "display_name": ".venv",
   "language": "python",
   "name": ".venv"
  },
  "language_info": {
   "codemirror_mode": {
    "name": "ipython",
    "version": 3
   },
   "file_extension": ".py",
   "mimetype": "text/x-python",
   "name": "python",
   "nbconvert_exporter": "python",
   "pygments_lexer": "ipython3",
   "version": "3.6.2"
  }
 },
 "nbformat": 4,
 "nbformat_minor": 2
}
